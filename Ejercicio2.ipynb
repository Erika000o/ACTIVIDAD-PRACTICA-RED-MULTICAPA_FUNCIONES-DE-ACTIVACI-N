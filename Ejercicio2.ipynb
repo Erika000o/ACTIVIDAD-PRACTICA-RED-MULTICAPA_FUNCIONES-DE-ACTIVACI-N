{
  "nbformat": 4,
  "nbformat_minor": 0,
  "metadata": {
    "colab": {
      "provenance": [],
      "authorship_tag": "ABX9TyPROJCxR/ZOsiRxiNVpLkby",
      "include_colab_link": true
    },
    "kernelspec": {
      "name": "python3",
      "display_name": "Python 3"
    },
    "language_info": {
      "name": "python"
    }
  },
  "cells": [
    {
      "cell_type": "markdown",
      "metadata": {
        "id": "view-in-github",
        "colab_type": "text"
      },
      "source": [
        "<a href=\"https://colab.research.google.com/github/Erika000o/ACTIVIDAD-PRACTICA-RED-MULTICAPA_FUNCIONES-DE-ACTIVACI-N/blob/main/Ejercicio2.ipynb\" target=\"_parent\"><img src=\"https://colab.research.google.com/assets/colab-badge.svg\" alt=\"Open In Colab\"/></a>"
      ]
    },
    {
      "cell_type": "code",
      "execution_count": 3,
      "metadata": {
        "colab": {
          "base_uri": "https://localhost:8080/"
        },
        "id": "hG7ZQe3Uu7un",
        "outputId": "7db145ea-0b29-43ff-ce63-906043bddacd"
      },
      "outputs": [
        {
          "output_type": "stream",
          "name": "stdout",
          "text": [
            "Época [1/5], Lote [100/938], Pérdida: 0.5166\n",
            "Época [1/5], Lote [200/938], Pérdida: 0.5657\n",
            "Época [1/5], Lote [300/938], Pérdida: 0.4241\n",
            "Época [1/5], Lote [400/938], Pérdida: 0.4672\n",
            "Época [1/5], Lote [500/938], Pérdida: 0.1941\n",
            "Época [1/5], Lote [600/938], Pérdida: 0.2536\n",
            "Época [1/5], Lote [700/938], Pérdida: 0.2507\n",
            "Época [1/5], Lote [800/938], Pérdida: 0.1661\n",
            "Época [1/5], Lote [900/938], Pérdida: 0.1393\n",
            "Época [2/5], Lote [100/938], Pérdida: 0.1666\n",
            "Época [2/5], Lote [200/938], Pérdida: 0.3635\n",
            "Época [2/5], Lote [300/938], Pérdida: 0.2309\n",
            "Época [2/5], Lote [400/938], Pérdida: 0.2438\n",
            "Época [2/5], Lote [500/938], Pérdida: 0.2022\n",
            "Época [2/5], Lote [600/938], Pérdida: 0.1590\n",
            "Época [2/5], Lote [700/938], Pérdida: 0.1007\n",
            "Época [2/5], Lote [800/938], Pérdida: 0.1500\n",
            "Época [2/5], Lote [900/938], Pérdida: 0.1287\n",
            "Época [3/5], Lote [100/938], Pérdida: 0.2611\n",
            "Época [3/5], Lote [200/938], Pérdida: 0.1145\n",
            "Época [3/5], Lote [300/938], Pérdida: 0.1131\n",
            "Época [3/5], Lote [400/938], Pérdida: 0.1184\n",
            "Época [3/5], Lote [500/938], Pérdida: 0.0521\n",
            "Época [3/5], Lote [600/938], Pérdida: 0.1141\n",
            "Época [3/5], Lote [700/938], Pérdida: 0.1188\n",
            "Época [3/5], Lote [800/938], Pérdida: 0.1424\n",
            "Época [3/5], Lote [900/938], Pérdida: 0.3675\n",
            "Época [4/5], Lote [100/938], Pérdida: 0.1398\n",
            "Época [4/5], Lote [200/938], Pérdida: 0.0764\n",
            "Época [4/5], Lote [300/938], Pérdida: 0.1835\n",
            "Época [4/5], Lote [400/938], Pérdida: 0.0557\n",
            "Época [4/5], Lote [500/938], Pérdida: 0.0741\n",
            "Época [4/5], Lote [600/938], Pérdida: 0.0877\n",
            "Época [4/5], Lote [700/938], Pérdida: 0.1113\n",
            "Época [4/5], Lote [800/938], Pérdida: 0.0536\n",
            "Época [4/5], Lote [900/938], Pérdida: 0.1194\n",
            "Época [5/5], Lote [100/938], Pérdida: 0.0733\n",
            "Época [5/5], Lote [200/938], Pérdida: 0.0712\n",
            "Época [5/5], Lote [300/938], Pérdida: 0.1302\n",
            "Época [5/5], Lote [400/938], Pérdida: 0.0369\n",
            "Época [5/5], Lote [500/938], Pérdida: 0.1222\n",
            "Época [5/5], Lote [600/938], Pérdida: 0.1286\n",
            "Época [5/5], Lote [700/938], Pérdida: 0.0599\n",
            "Época [5/5], Lote [800/938], Pérdida: 0.0705\n",
            "Época [5/5], Lote [900/938], Pérdida: 0.0495\n",
            "Precisión en el conjunto de prueba: 96.9%\n"
          ]
        }
      ],
      "source": [
        "from IPython import get_ipython\n",
        "from IPython.display import display\n",
        "# Importar las bibliotecas necesarias\n",
        "import torch\n",
        "import torch.nn as nn\n",
        "import torch.optim as optim\n",
        "from torch.utils.data import DataLoader\n",
        "from torchvision import datasets, transforms\n",
        "\n",
        "# Definir los hiperparámetros\n",
        "input_size = 784\n",
        "hidden_size = 128\n",
        "output_size = 10\n",
        "batch_size = 64\n",
        "learning_rate = 0.001\n",
        "num_epochs = 5\n",
        "\n",
        "# Descargar y cargar el dataset MNIST\n",
        "transform = transforms.Compose([transforms.ToTensor(), transforms.Normalize((0.5,), (0.5,))])\n",
        "train_dataset = datasets.MNIST(root='./data', train=True, transform=transform, download=True)\n",
        "test_dataset = datasets.MNIST(root='./data', train=False, transform=transform)\n",
        "train_loader = DataLoader(dataset=train_dataset, batch_size=batch_size, shuffle=True)\n",
        "test_loader = DataLoader(dataset=test_dataset, batch_size=batch_size, shuffle=False)\n",
        "\n",
        "# Definir el modelo de red neuronal\n",
        "class NeuralNet(nn.Module):\n",
        "    def __init__(self, input_size, hidden_size, output_size): # Changed _init_ to __init__\n",
        "        super(NeuralNet, self).__init__()\n",
        "        self.fc1 = nn.Linear(input_size, hidden_size)\n",
        "        self.relu = nn.ReLU()\n",
        "        self.fc2 = nn.Linear(hidden_size, output_size)\n",
        "\n",
        "    def forward(self, x):\n",
        "        x = x.view(-1, input_size)\n",
        "        x = self.fc1(x)\n",
        "        x = self.relu(x)\n",
        "        x = self.fc2(x)\n",
        "        return x\n",
        "\n",
        "model = NeuralNet(input_size, hidden_size, output_size)\n",
        "\n",
        "# Definir la función de pérdida y el optimizador\n",
        "criterion = nn.CrossEntropyLoss()\n",
        "optimizer = optim.Adam(model.parameters(), lr=learning_rate)\n",
        "\n",
        "# Entrenar el modelo\n",
        "for epoch in range(num_epochs):\n",
        "    for i, (images, labels) in enumerate(train_loader):\n",
        "        outputs = model(images)\n",
        "        loss = criterion(outputs, labels)\n",
        "        optimizer.zero_grad()\n",
        "        loss.backward()\n",
        "        optimizer.step()\n",
        "\n",
        "        if (i + 1) % 100 == 0:\n",
        "            print(f'Época [{epoch+1}/{num_epochs}], Lote [{i+1}/{len(train_loader)}], Pérdida: {loss.item():.4f}')\n",
        "\n",
        "# Evaluar el modelo\n",
        "model.eval()\n",
        "with torch.no_grad():\n",
        "    correct = 0\n",
        "    total = 0\n",
        "    for images, labels in test_loader:\n",
        "        outputs = model(images)\n",
        "        _, predicted = torch.max(outputs.data, 1)\n",
        "        total += labels.size(0)\n",
        "        correct += (predicted == labels).sum().item()\n",
        "\n",
        "    print(f'Precisión en el conjunto de prueba: {100 * correct / total}%')"
      ]
    }
  ]
}